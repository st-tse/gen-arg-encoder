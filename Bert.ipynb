{
 "cells": [
  {
   "cell_type": "code",
   "execution_count": 1,
   "id": "8e1da998",
   "metadata": {},
   "outputs": [
    {
     "name": "stderr",
     "output_type": "stream",
     "text": [
      "C:\\Users\\steph\\Anaconda3\\envs\\nlp\\lib\\site-packages\\tqdm\\auto.py:22: TqdmWarning: IProgress not found. Please update jupyter and ipywidgets. See https://ipywidgets.readthedocs.io/en/stable/user_install.html\n",
      "  from .autonotebook import tqdm as notebook_tqdm\n",
      "wandb: WARNING W&B installed but not logged in.  Run `wandb login` or set the WANDB_API_KEY env variable.\n"
     ]
    }
   ],
   "source": [
    "import enum\n",
    "import logging\n",
    "import os\n",
    "import sys\n",
    "import errno\n",
    "import time\n",
    "import math\n",
    "import torch\n",
    "from dataclasses import dataclass, field\n",
    "from itertools import chain\n",
    "from typing import Optional\n",
    "from tqdm import tqdm\n",
    "\n",
    "from transformers import BertTokenizer, BertForMaskedLM, AdamW\n",
    "import torch\n",
    "import torch.optim as optim\n",
    "from torch.utils.data import DataLoader \n",
    "\n",
    "import argparse\n",
    "\n",
    "from src.genie.data import IEDataset, my_collate"
   ]
  },
  {
   "cell_type": "code",
   "execution_count": 2,
   "id": "2839a15b",
   "metadata": {},
   "outputs": [],
   "source": [
    "output_dir = 'out'\n",
    "with_tracking = False\n",
    "\n",
    "batch_size = 64\n",
    "n_epochs = 1\n",
    "weight_decay = 0.0\n",
    "learning_rate = 5e-5\n",
    "\n",
    "lr_scheduler_type = \"linear\"\n",
    "num_warmup_steps = 0.0\n",
    "max_train_steps = 10_000\n",
    "gradient_accumulation_steps = 1\n",
    "with_tracking = False"
   ]
  },
  {
   "cell_type": "code",
   "execution_count": 3,
   "id": "a68264f1",
   "metadata": {},
   "outputs": [],
   "source": [
    "train = IEDataset('preprocessed_data/train_RAMS_oracle.jsonl')"
   ]
  },
  {
   "cell_type": "code",
   "execution_count": 4,
   "id": "c44be8ca",
   "metadata": {},
   "outputs": [],
   "source": [
    "train = DataLoader(train, \n",
    "    pin_memory=True, num_workers=2, \n",
    "    collate_fn=my_collate,\n",
    "    batch_size=4, \n",
    "    shuffle=True)"
   ]
  },
  {
   "cell_type": "code",
   "execution_count": 5,
   "id": "771ca220",
   "metadata": {},
   "outputs": [
    {
     "name": "stderr",
     "output_type": "stream",
     "text": [
      "Some weights of the model checkpoint at bert-base-uncased were not used when initializing BertForMaskedLM: ['cls.seq_relationship.weight', 'cls.seq_relationship.bias']\n",
      "- This IS expected if you are initializing BertForMaskedLM from the checkpoint of a model trained on another task or with another architecture (e.g. initializing a BertForSequenceClassification model from a BertForPretraining model).\n",
      "- This IS NOT expected if you are initializing BertForMaskedLM from the checkpoint of a model that you expect to be exactly identical (initializing a BertForSequenceClassification model from a BertForSequenceClassification model).\n",
      "Some weights of BertForMaskedLM were not initialized from the model checkpoint at bert-base-uncased and are newly initialized: ['cls.predictions.decoder.bias']\n",
      "You should probably TRAIN this model on a down-stream task to be able to use it for predictions and inference.\n"
     ]
    },
    {
     "data": {
      "text/plain": [
       "Embedding(30523, 768)"
      ]
     },
     "execution_count": 5,
     "metadata": {},
     "output_type": "execute_result"
    }
   ],
   "source": [
    "tokenizer = BertTokenizer.from_pretrained('bert-base-uncased')\n",
    "tokenizer.add_tokens(['<args>'])\n",
    "\n",
    "model = BertForMaskedLM.from_pretrained('bert-base-uncased')\n",
    "model.resize_token_embeddings(len(tokenizer))"
   ]
  },
  {
   "cell_type": "code",
   "execution_count": null,
   "id": "47e84b7f",
   "metadata": {},
   "outputs": [
    {
     "name": "stdout",
     "output_type": "stream",
     "text": [
      "Starting Epoch: 0\n",
      "Starting Forward:\n",
      "Starting Backward\n",
      "loss:\n",
      "10.370660781860352\n",
      "Starting Forward:\n",
      "Starting Backward\n",
      "loss:\n",
      "9.486031532287598\n",
      "Starting Forward:\n",
      "Starting Backward\n",
      "loss:\n",
      "8.018885612487793\n",
      "Starting Forward:\n",
      "Starting Backward\n",
      "loss:\n",
      "6.058218955993652\n",
      "Starting Forward:\n",
      "Starting Backward\n",
      "loss:\n",
      "5.075306415557861\n",
      "Starting Forward:\n",
      "Starting Backward\n",
      "loss:\n",
      "5.07222318649292\n",
      "Starting Forward:\n",
      "Starting Backward\n",
      "loss:\n",
      "4.758015155792236\n",
      "Starting Forward:\n",
      "Starting Backward\n",
      "loss:\n",
      "4.114434242248535\n",
      "Starting Forward:\n",
      "Starting Backward\n",
      "loss:\n",
      "3.9111194610595703\n",
      "Starting Forward:\n",
      "Starting Backward\n",
      "loss:\n",
      "3.1673481464385986\n",
      "Starting Forward:\n",
      "Starting Backward\n",
      "loss:\n",
      "3.005366802215576\n",
      "Starting Forward:\n",
      "Starting Backward\n",
      "loss:\n",
      "2.6861190795898438\n",
      "Starting Forward:\n"
     ]
    }
   ],
   "source": [
    "optimizer = AdamW(model.parameters(), lr=learning_rate)\n",
    "\n",
    "model.train()\n",
    "for epoch in range(n_epochs):\n",
    "    print('Starting Epoch:', epoch)\n",
    "    for idx, data in enumerate(train):\n",
    "        optimizer.zero_grad()\n",
    "        input_ids = data['input_token_ids']\n",
    "        labels = data['tgt_token_ids']\n",
    "        attention_mask = data['input_attn_mask']\n",
    "        print('Starting Forward:')\n",
    "        loss, logits = model(input_ids, attention_mask=attention_mask, labels=labels)\n",
    "        print('Starting Backward')\n",
    "        loss.backward()\n",
    "        optimizer.step()\n",
    "        print('loss:')\n",
    "        print(loss.item())\n"
   ]
  }
 ],
 "metadata": {
  "kernelspec": {
   "display_name": "Python [conda env:nlp]",
   "language": "python",
   "name": "conda-env-nlp-py"
  },
  "language_info": {
   "codemirror_mode": {
    "name": "ipython",
    "version": 3
   },
   "file_extension": ".py",
   "mimetype": "text/x-python",
   "name": "python",
   "nbconvert_exporter": "python",
   "pygments_lexer": "ipython3",
   "version": "3.7.13"
  }
 },
 "nbformat": 4,
 "nbformat_minor": 5
}
