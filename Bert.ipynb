{
 "cells": [
  {
   "cell_type": "code",
   "execution_count": 20,
   "id": "8e1da998",
   "metadata": {},
   "outputs": [],
   "source": [
    "import enum\n",
    "import logging\n",
    "import os\n",
    "import sys\n",
    "import errno\n",
    "import time\n",
    "import math\n",
    "import torch\n",
    "from dataclasses import dataclass, field\n",
    "from itertools import chain\n",
    "from typing import Optional\n",
    "from tqdm import tqdm\n",
    "\n",
    "from transformers import BertTokenizer, BertForMaskedLM, AdamW\n",
    "import torch\n",
    "import torch.optim as optim\n",
    "from torch.utils.data import DataLoader \n",
    "\n",
    "import argparse\n",
    "from src.genie.data_module import RAMSDataModule\n",
    "\n",
    "from src.genie.data import IEDataset, my_collate"
   ]
  },
  {
   "cell_type": "code",
   "execution_count": 21,
   "id": "2839a15b",
   "metadata": {},
   "outputs": [],
   "source": [
    "output_dir = 'out'\n",
    "with_tracking = False\n",
    "\n",
    "batch_size = 64\n",
    "n_epochs = 1\n",
    "weight_decay = 0.0\n",
    "learning_rate = 5e-5\n",
    "\n",
    "lr_scheduler_type = \"linear\"\n",
    "num_warmup_steps = 0.0\n",
    "max_train_steps = 10_000\n",
    "gradient_accumulation_steps = 1\n",
    "with_tracking = False"
   ]
  },
  {
   "cell_type": "code",
   "execution_count": 22,
   "id": "a68264f1",
   "metadata": {},
   "outputs": [],
   "source": [
    "train = IEDataset('preprocessed_data/train_RAMS_oracle.jsonl')"
   ]
  },
  {
   "cell_type": "code",
   "execution_count": 23,
   "id": "c44be8ca",
   "metadata": {},
   "outputs": [],
   "source": [
    "train = DataLoader(train, \n",
    "    pin_memory=True, num_workers=2, \n",
    "    collate_fn=my_collate,\n",
    "    batch_size=16, \n",
    "    shuffle=True)"
   ]
  },
  {
   "cell_type": "code",
   "execution_count": 24,
   "id": "771ca220",
   "metadata": {},
   "outputs": [
    {
     "name": "stderr",
     "output_type": "stream",
     "text": [
      "Some weights of the model checkpoint at bert-base-uncased were not used when initializing BertForMaskedLM: ['cls.seq_relationship.weight', 'cls.seq_relationship.bias']\n",
      "- This IS expected if you are initializing BertForMaskedLM from the checkpoint of a model trained on another task or with another architecture (e.g. initializing a BertForSequenceClassification model from a BertForPretraining model).\n",
      "- This IS NOT expected if you are initializing BertForMaskedLM from the checkpoint of a model that you expect to be exactly identical (initializing a BertForSequenceClassification model from a BertForSequenceClassification model).\n",
      "Some weights of BertForMaskedLM were not initialized from the model checkpoint at bert-base-uncased and are newly initialized: ['cls.predictions.decoder.bias']\n",
      "You should probably TRAIN this model on a down-stream task to be able to use it for predictions and inference.\n"
     ]
    },
    {
     "data": {
      "text/plain": [
       "Embedding(30523, 768)"
      ]
     },
     "execution_count": 24,
     "metadata": {},
     "output_type": "execute_result"
    }
   ],
   "source": [
    "tokenizer = BertTokenizer.from_pretrained('bert-base-uncased')\n",
    "tokenizer.add_tokens(['<args>'])\n",
    "\n",
    "model = BertForMaskedLM.from_pretrained('bert-base-uncased')\n",
    "model.resize_token_embeddings(len(tokenizer))"
   ]
  },
  {
   "cell_type": "code",
   "execution_count": null,
   "id": "47e84b7f",
   "metadata": {},
   "outputs": [
    {
     "name": "stderr",
     "output_type": "stream",
     "text": [
      "\r",
      "0it [00:00, ?it/s]"
     ]
    }
   ],
   "source": [
    "optimizer = AdamW(model.parameters(), lr=learning_rate)\n",
    "\n",
    "model.train()\n",
    "for epoch in range(n_epochs):\n",
    "    for idx, data in tqdm(enumerate(train)):\n",
    "        optimizer.zero_grad()\n",
    "        input_ids = data['input_token_ids']\n",
    "        labels = data['tgt_token_ids']\n",
    "        attention_mask = data['input_attn_mask']\n",
    "        loss, logits = model(input_ids, attention_mask=attention_mask, labels=labels)\n",
    "        loss.backward()\n",
    "        optimizer.step()\n",
    "    \n",
    "        print(loss.item())\n"
   ]
  },
  {
   "cell_type": "code",
   "execution_count": 29,
   "id": "cbca8404",
   "metadata": {},
   "outputs": [],
   "source": [
    "outputs.backward()"
   ]
  }
 ],
 "metadata": {
  "kernelspec": {
   "display_name": "Python [conda env:nlp]",
   "language": "python",
   "name": "conda-env-nlp-py"
  },
  "language_info": {
   "codemirror_mode": {
    "name": "ipython",
    "version": 3
   },
   "file_extension": ".py",
   "mimetype": "text/x-python",
   "name": "python",
   "nbconvert_exporter": "python",
   "pygments_lexer": "ipython3",
   "version": "3.7.13"
  }
 },
 "nbformat": 4,
 "nbformat_minor": 5
}
